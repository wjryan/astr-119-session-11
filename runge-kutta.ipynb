{
 "cells": [
  {
   "cell_type": "code",
   "execution_count": 57,
   "metadata": {
    "scrolled": true
   },
   "outputs": [],
   "source": [
    "%matplotlib inline\n",
    "import matplotlib.pyplot as plt\n",
    "import numpy as np"
   ]
  },
  {
   "cell_type": "code",
   "execution_count": 58,
   "metadata": {},
   "outputs": [],
   "source": [
    "def dfdx(x,f):\n",
    "    return x**2 + x"
   ]
  },
  {
   "cell_type": "code",
   "execution_count": 59,
   "metadata": {},
   "outputs": [],
   "source": [
    "def f_int(x,C):\n",
    "    return (x**3)/3.0 + 0.5*x**2 + C"
   ]
  },
  {
   "cell_type": "markdown",
   "metadata": {},
   "source": [
    "# define 2nd order RK method"
   ]
  },
  {
   "cell_type": "code",
   "execution_count": 60,
   "metadata": {},
   "outputs": [],
   "source": [
    "def rk2_core(x_i,f_i,h,g):\n",
    "    #advance f by a step h\n",
    "    #half step\n",
    "    x_ipoh = x_i + 0.5*h\n",
    "    f_ipoh = f_i + 0.5*h*g(x_i,f_i)\n",
    "    \n",
    "    #full step\n",
    "    f_ipo = f_i + h*g(x_ipoh,f_ipoh)\n",
    "    \n",
    "    return f_ipo"
   ]
  },
  {
   "cell_type": "markdown",
   "metadata": {},
   "source": [
    "# define a wrapper function for rk2"
   ]
  },
  {
   "cell_type": "code",
   "execution_count": 66,
   "metadata": {},
   "outputs": [],
   "source": [
    "def rk2(dfdx,a,b,f_a,N):\n",
    "    \n",
    "    #dfdx is the derivative wrt x\n",
    "    #a is the lower bound\n",
    "    #b is the upper bound\n",
    "    #f_a is the boundary condition at a\n",
    "    #N is the number of steps\n",
    "    \n",
    "    #define our steps\n",
    "    x = np.linspace(a,b,N)\n",
    "    \n",
    "    #a single step size\n",
    "    h = x[1]-x[0]\n",
    "    \n",
    "    #an array to hold f\n",
    "    f = np.zeros(N,dtype=float)\n",
    "    \n",
    "    f[0] = f_a #value of f at a\n",
    "    \n",
    "    #evolve f along x\n",
    "    for i in range(1,N):\n",
    "        f[i] = rk2_core(x[i-1],f[i-1],h,dfdx)\n",
    "        \n",
    "    return x,f"
   ]
  },
  {
   "cell_type": "markdown",
   "metadata": {},
   "source": [
    "# Define the 4th order RK method"
   ]
  },
  {
   "cell_type": "code",
   "execution_count": 67,
   "metadata": {},
   "outputs": [],
   "source": [
    "def rk4_core(x_i,f_i,h,g):\n",
    "    \n",
    "    #define x at 1/2 step\n",
    "    x_ipoh = x_i + 0.5*h\n",
    "    \n",
    "    #define x at 1 step\n",
    "    x_ipo = x_i + h\n",
    "    \n",
    "    #advance by a step h \n",
    "    \n",
    "    k_1 = h*g(x_i,f_i)\n",
    "    k_2 = h*g(x_ipoh, f_i + 0.5*k_1)\n",
    "    k_3 = h*g(x_ipoh, f_i + 0.5*k_2)\n",
    "    k_4 = h*g(x_ipo,  f_i + k_3)\n",
    "    \n",
    "    f_ipo = f_i + (k_1 + 2*k_2 + 2*k_3 +k_4)/6.\n",
    "    \n",
    "    return f_ipo"
   ]
  },
  {
   "cell_type": "markdown",
   "metadata": {},
   "source": [
    "# Define a wrapper for rk4"
   ]
  },
  {
   "cell_type": "code",
   "execution_count": 68,
   "metadata": {},
   "outputs": [],
   "source": [
    "def rk4(dfdx,a,b,f_a,N):\n",
    "    \n",
    "    #dfdx is the derivative wrt x\n",
    "    #a is the lower bound\n",
    "    #b is the upper bound\n",
    "    #f_a is the boundary condition at a\n",
    "    #N is the number of steps\n",
    "    \n",
    "    #define our steps\n",
    "    x = np.linspace(a,b,N)\n",
    "    \n",
    "    #a single step size\n",
    "    h = x[1]-x[0]\n",
    "    \n",
    "    #an array to hold f\n",
    "    f = np.zeros(N,dtype=float)\n",
    "    \n",
    "    f[0] = f_a #value of f at a\n",
    "    \n",
    "    #evolve f along x\n",
    "    for i in range(1,N):    \n",
    "        f[i] = rk4_core(x[i-1],f[i-1],h,dfdx)\n",
    "        \n",
    "    return x,f"
   ]
  },
  {
   "cell_type": "markdown",
   "metadata": {},
   "source": [
    "# perform the integration"
   ]
  },
  {
   "cell_type": "code",
   "execution_count": 71,
   "metadata": {},
   "outputs": [
    {
     "data": {
      "text/plain": [
       "<matplotlib.legend.Legend at 0x123a4ed68>"
      ]
     },
     "execution_count": 71,
     "metadata": {},
     "output_type": "execute_result"
    },
    {
     "data": {
      "image/png": "[encoded data removed]",
      "text/plain": [
       "<Figure size 720x720 with 1 Axes>"
      ]
     },
     "metadata": {
      "needs_background": "light"
     },
     "output_type": "display_data"
    }
   ],
   "source": [
    "a = 0.0\n",
    "b = 1.0 \n",
    "f_a = 0.0\n",
    "N = 10\n",
    "x_2, f_2 = rk2(dfdx,a,b,f_a,N)\n",
    "x_4, f_4 = rk4(dfdx,a,b,f_a,N)\n",
    "x = x_2.copy()\n",
    "fig = plt.figure(figsize=(10,10))\n",
    "plt.plot(x_2,f_2,label='RK2')\n",
    "plt.plot(x_4,f_4,label='RK4')\n",
    "plt.plot(x,f_int(x,f_a),'o',label='Analytic')\n",
    "plt.legend(frameon=False)"
   ]
  },
  {
   "cell_type": "markdown",
   "metadata": {},
   "source": [
    "# plot the error"
   ]
  },
  {
   "cell_type": "code",
   "execution_count": 80,
   "metadata": {
    "scrolled": true
   },
   "outputs": [
    {
     "name": "stderr",
     "output_type": "stream",
     "text": [
      "/Library/Frameworks/Python.framework/Versions/3.6/lib/python3.6/site-packages/ipykernel_launcher.py:11: RuntimeWarning: invalid value encountered in true_divide\n",
      "  # This is added back by InteractiveShellApp.init_path()\n",
      "/Library/Frameworks/Python.framework/Versions/3.6/lib/python3.6/site-packages/ipykernel_launcher.py:12: RuntimeWarning: invalid value encountered in true_divide\n",
      "  if sys.path[0] == '':\n",
      "No handles with labels found to put in legend.\n"
     ]
    },
    {
     "data": {
      "text/plain": [
       "<matplotlib.legend.Legend at 0x124281550>"
      ]
     },
     "execution_count": 80,
     "metadata": {},
     "output_type": "execute_result"
    },
    {
     "data": {
      "image/png": "[encoded data removed]",
      "text/plain": [
       "<Figure size 720x720 with 1 Axes>"
      ]
     },
     "metadata": {
      "needs_background": "light"
     },
     "output_type": "display_data"
    }
   ],
   "source": [
    "a = 0.0\n",
    "b = 1.0 \n",
    "f_a = 0.0\n",
    "N = 10\n",
    "x_2, f_2 = rk2(dfdx,a,b,f_a,N)\n",
    "x_4, f_4 = rk4(dfdx,a,b,f_a,N)\n",
    "x = x_2.copy()\n",
    "\n",
    "fig = plt.figure(figsize=(10,10))\n",
    "f_analytic = f_int(x,f_a)\n",
    "error_2 = (f_2 - f_analytic)/f_analytic\n",
    "error_4 = (f_4 - f_analytic)/f_analytic\n",
    "plt.plot(error_2)\n",
    "plt.plot(error_4)\n",
    "plt.legend(frameon=False)\n",
    "\n",
    "\n",
    "#fig = plt.figure(figsize=(10,10))\n",
    "#plt.plot(x_2,f_2,label='RK2')\n",
    "#plt.plot(x_4,f_4,label='RK4')\n",
    "#plt.plot(x,f_int(x,f_a),'o',label='Analytic')\n",
    "#plt.legend(frameon=False)"
   ]
  },
  {
   "cell_type": "code",
   "execution_count": 81,
   "metadata": {},
   "outputs": [
    {
     "name": "stdout",
     "output_type": "stream",
     "text": [
      "[            nan -1.30822077e-16 -2.44763887e-16  0.00000000e+00\n",
      "  0.00000000e+00 -1.31246365e-16  1.72938587e-16  2.41718044e-16\n",
      "  1.76457686e-16  1.33226763e-16]\n"
     ]
    }
   ],
   "source": [
    "print(error_4)"
   ]
  },
  {
   "cell_type": "code",
   "execution_count": 82,
   "metadata": {},
   "outputs": [
    {
     "name": "stdout",
     "output_type": "stream",
     "text": [
      "[        nan -0.01724138 -0.00806452 -0.00505051 -0.00357143 -0.0027027\n",
      " -0.00213675 -0.00174216 -0.00145349 -0.00123457]\n"
     ]
    }
   ],
   "source": [
    "print(error_2)"
   ]
  },
  {
   "cell_type": "code",
   "execution_count": null,
   "metadata": {},
   "outputs": [],
   "source": [
    "\n",
    "\n",
    "\n"
   ]
  }
 ],
 "metadata": {
  "kernelspec": {
   "display_name": "Python 3",
   "language": "python",
   "name": "python3"
  },
  "language_info": {
   "codemirror_mode": {
    "name": "ipython",
    "version": 3
   },
   "file_extension": ".py",
   "mimetype": "text/x-python",
   "name": "python",
   "nbconvert_exporter": "python",
   "pygments_lexer": "ipython3",
   "version": "3.6.5"
  }
 },
 "nbformat": 4,
 "nbformat_minor": 2
}
